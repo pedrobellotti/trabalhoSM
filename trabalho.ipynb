{
 "cells": [
  {
   "cell_type": "markdown",
   "metadata": {},
   "source": [
    "Videos de referencia: https://www.youtube.com/watch?v=8yOMflB0AZU\n",
    "\n",
    "https://www.youtube.com/watch?v=k6Bg_kOZn2M\n",
    "\n",
    "Fazer na forma de webservice\n",
    "\n",
    "https://trac.ffmpeg.org/wiki/Debug/MacroblocksAndMotionVectors"
   ]
  },
  {
   "cell_type": "code",
   "execution_count": 1,
   "metadata": {},
   "outputs": [],
   "source": [
    "import cv2 #opencv-python\n",
    "import numpy as np\n",
    "import os\n",
    "import glob\n",
    "import subprocess\n",
    "import sys"
   ]
  },
  {
   "cell_type": "code",
   "execution_count": 2,
   "metadata": {},
   "outputs": [],
   "source": [
    "video = 'bola.mp4'"
   ]
  },
  {
   "cell_type": "code",
   "execution_count": 3,
   "metadata": {},
   "outputs": [],
   "source": [
    "#Salva todos os frames do video em um arquivo\n",
    "def divideFrames(video):\n",
    "    os.system('ffmpeg -i Videos/'+video+' Frames/Todos/frame%03d-'+video+'.jpg')"
   ]
  },
  {
   "cell_type": "code",
   "execution_count": 4,
   "metadata": {},
   "outputs": [],
   "source": [
    "#Divide o video em frames I, B e P\n",
    "def divideFramesIBP(video):\n",
    "    #Pegando os frames I\n",
    "    os.system('ffmpeg -i Videos/'+video+' -vf \"select=\\'eq(pict_type\\,I)\" -vsync 0 -frame_pts 1 Frames/Keyframes/I-frame-%02d-'+video+'.jpg')\n",
    "    #Pegando os frames B\n",
    "    os.system('ffmpeg -i Videos/'+video+' -vf \"select=\\'eq(pict_type\\,B)\" -vsync 0 -frame_pts 1 Frames/Keyframes/B-frame-%02d-'+video+'.jpg')\n",
    "    #Pegando os frames P\n",
    "    os.system('ffmpeg -i Videos/'+video+' -vf \"select=\\'eq(pict_type\\,P)\" -vsync 0 -frame_pts 1 Frames/Keyframes/P-frame-%02d-'+video+'.jpg')"
   ]
  },
  {
   "cell_type": "code",
   "execution_count": 5,
   "metadata": {},
   "outputs": [],
   "source": [
    "#Cria um video mostrando o vetor de movimento de cada frame\n",
    "def vetorMovimento(video):\n",
    "    currentDir = os.getcwd()\n",
    "    os.chdir('ffmpeg-3.1.11')\n",
    "    os.system('./ffmpeg -flags2 +export_mvs -i ../Videos/'+video+' -vf codecview=mv=pf+bf+bb ../Videos/'+video+'-vetorMovimento.mp4')\n",
    "    os.chdir(currentDir)"
   ]
  },
  {
   "cell_type": "code",
   "execution_count": 6,
   "metadata": {},
   "outputs": [],
   "source": [
    "#Cria um video mostrando os macroblocos de cada frame\n",
    "def macroblocos(video):\n",
    "    currentDir = os.getcwd()\n",
    "    os.chdir('ffmpeg-3.1.11')\n",
    "    os.system('./ffmpeg -debug vis_mb_type -i ../Videos/'+video+' ../Videos/'+video+'-macroblocos.mp4')\n",
    "    os.chdir(currentDir)"
   ]
  },
  {
   "cell_type": "code",
   "execution_count": 7,
   "metadata": {},
   "outputs": [
    {
     "name": "stdout",
     "output_type": "stream",
     "text": [
      "Total de frames:  373\n",
      "Total de frames I:  7\n",
      "Total de frames B:  0\n",
      "Total de frames P:  366\n"
     ]
    }
   ],
   "source": [
    "#Imprimindo quantos frames foram criados de cada\n",
    "divideFrames(video)\n",
    "divideFramesIBP(video)\n",
    "total = len(glob.glob1('Frames/Todos',\"frame*\"))\n",
    "totalI = len(glob.glob1('Frames/Keyframes',\"I-*\"))\n",
    "totalB = len(glob.glob1('Frames/Keyframes',\"B-*\"))\n",
    "totalP = len(glob.glob1('Frames/Keyframes',\"P-*\"))\n",
    "print(\"Total de frames: \", str(total))\n",
    "print(\"Total de frames I: \", str(totalI))\n",
    "print(\"Total de frames B: \", str(totalB))\n",
    "print(\"Total de frames P: \", str(totalP))"
   ]
  },
  {
   "cell_type": "code",
   "execution_count": 8,
   "metadata": {},
   "outputs": [
    {
     "name": "stdout",
     "output_type": "stream",
     "text": [
      "['frame I', 'frame P', 'frame P', 'frame P', 'frame P', 'frame P', 'frame P', 'frame P', 'frame P', 'frame P', 'frame P', 'frame P', 'frame P', 'frame P', 'frame P', 'frame P', 'frame P', 'frame P', 'frame P', 'frame P', 'frame P', 'frame P', 'frame P', 'frame P', 'frame P', 'frame P', 'frame P', 'frame P', 'frame P', 'frame P', 'frame P', 'frame P', 'frame P', 'frame P', 'frame P', 'frame P', 'frame P', 'frame P', 'frame P', 'frame P', 'frame P', 'frame P', 'frame P', 'frame P', 'frame P', 'frame P', 'frame P', 'frame P', 'frame P', 'frame P', 'frame P', 'frame P', 'frame P', 'frame P', 'frame P', 'frame P', 'frame P', 'frame P', 'frame P', 'frame P', 'frame I', 'frame P', 'frame P', 'frame P', 'frame P', 'frame P', 'frame P', 'frame P', 'frame P', 'frame P', 'frame P', 'frame P', 'frame P', 'frame P', 'frame P', 'frame P', 'frame P', 'frame P', 'frame P', 'frame P', 'frame P', 'frame P', 'frame P', 'frame P', 'frame P', 'frame P', 'frame P', 'frame P', 'frame P', 'frame P', 'frame P', 'frame P', 'frame P', 'frame P', 'frame P', 'frame P', 'frame P', 'frame P', 'frame P', 'frame P', 'frame P', 'frame P', 'frame P', 'frame P', 'frame P', 'frame P']\n"
     ]
    }
   ],
   "source": [
    "#Ordem de execucao de frames\n",
    "lista = subprocess.check_output('ffprobe -select_streams v -show_frames -show_entries frame=pict_type -of csv Videos/'+video, shell=True).decode(sys.stdout.encoding)\n",
    "lista = lista.replace(\",\",\" \")\n",
    "execucao = []\n",
    "c = 0\n",
    "temp = \"\"\n",
    "for char in lista:\n",
    "    if(c < 7):\n",
    "        temp += char\n",
    "        c += 1\n",
    "    else:\n",
    "        execucao.append(temp)\n",
    "        temp = \"\"\n",
    "        c = 0\n",
    "print (execucao)"
   ]
  },
  {
   "cell_type": "code",
   "execution_count": 9,
   "metadata": {},
   "outputs": [],
   "source": [
    "#Criando video mostrando os vetores de movimentos\n",
    "vetorMovimento(video)"
   ]
  },
  {
   "cell_type": "code",
   "execution_count": 10,
   "metadata": {},
   "outputs": [],
   "source": [
    "#Criando video mostrando os macroblocos\n",
    "macroblocos(video)"
   ]
  }
 ],
 "metadata": {
  "kernelspec": {
   "display_name": "Python 3",
   "language": "python",
   "name": "python3"
  },
  "language_info": {
   "codemirror_mode": {
    "name": "ipython",
    "version": 3
   },
   "file_extension": ".py",
   "mimetype": "text/x-python",
   "name": "python",
   "nbconvert_exporter": "python",
   "pygments_lexer": "ipython3",
   "version": "3.8.5"
  }
 },
 "nbformat": 4,
 "nbformat_minor": 4
}
