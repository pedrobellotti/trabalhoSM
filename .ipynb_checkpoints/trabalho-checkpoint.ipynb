{
 "cells": [
  {
   "cell_type": "markdown",
   "metadata": {},
   "source": [
    "Video de referencia: https://www.youtube.com/watch?v=8yOMflB0AZU \\\\\n",
    "Procurar um video em mpeg2video \\\\\n",
    "Fazer na forma de webservice"
   ]
  },
  {
   "cell_type": "code",
   "execution_count": 1,
   "metadata": {},
   "outputs": [],
   "source": [
    "import cv2 #opencv-python\n",
    "import numpy as np\n",
    "import os\n",
    "import glob\n",
    "import subprocess\n",
    "import sys"
   ]
  },
  {
   "cell_type": "code",
   "execution_count": 2,
   "metadata": {},
   "outputs": [],
   "source": [
    "#Salva todos os frames do video em um arquivo\n",
    "def divideFrames():\n",
    "    #Arquivo do video e pasta para salvar os frames\n",
    "    video = cv2.VideoCapture('videoplayback.mp4')\n",
    "    pasta = 'Frames/Todos/'\n",
    "    #Contador de frames\n",
    "    cont = 1\n",
    "    #Itera pelo video\n",
    "    while(True):\n",
    "        #Captura os frames do video\n",
    "        ret, frame = video.read()\n",
    "        #Sai do loop se o video acabou\n",
    "        if not ret:\n",
    "            break\n",
    "        #Salva o frame em .jpg\n",
    "        nomeArq = 'frame' + str(cont) + '.jpg'\n",
    "        cv2.imwrite(os.path.join(pasta, nomeArq), frame)\n",
    "        #print ('Frame criado: ', nomeArq)\n",
    "        cont += 1\n",
    "    #Libera o video e retorna quantos frames foram criados\n",
    "    video.release()\n",
    "    return cont"
   ]
  },
  {
   "cell_type": "code",
   "execution_count": 3,
   "metadata": {},
   "outputs": [],
   "source": [
    "def divideFramesIBP():\n",
    "    #Pegando os frames I\n",
    "    os.system('ffmpeg -i videoplayback.mp4 -vf \"select=\\'eq(pict_type\\,I)\" -vsync 0 -frame_pts 1 Frames/Keyframes/I-frame-%02d.jpg')\n",
    "    #Pegando os frames B\n",
    "    os.system('ffmpeg -i videoplayback.mp4 -vf \"select=\\'eq(pict_type\\,B)\" -vsync 0 -frame_pts 1 Frames/Keyframes/B-frame-%02d.jpg')\n",
    "    #Pegando os frames P\n",
    "    os.system('ffmpeg -i videoplayback.mp4 -vf \"select=\\'eq(pict_type\\,P)\" -vsync 0 -frame_pts 1 Frames/Keyframes/P-frame-%02d.jpg')"
   ]
  },
  {
   "cell_type": "code",
   "execution_count": 4,
   "metadata": {},
   "outputs": [
    {
     "name": "stdout",
     "output_type": "stream",
     "text": [
      "Total de frames:  107\n",
      "Total de frames I:  2\n",
      "Total de frames B:  0\n",
      "Total de frames P:  104\n"
     ]
    }
   ],
   "source": [
    "#Imprimindo quantos frames foram criados de cada\n",
    "total = divideFrames()\n",
    "divideFramesIBP()\n",
    "totalI = len(glob.glob1('Frames/Keyframes',\"I-*\"))\n",
    "totalB = len(glob.glob1('Frames/Keyframes',\"B-*\"))\n",
    "totalP = len(glob.glob1('Frames/Keyframes',\"P-*\"))\n",
    "print(\"Total de frames: \", str(total))\n",
    "print(\"Total de frames I: \", str(totalI))\n",
    "print(\"Total de frames B: \", str(totalB))\n",
    "print(\"Total de frames P: \", str(totalP))"
   ]
  },
  {
   "cell_type": "code",
   "execution_count": 5,
   "metadata": {},
   "outputs": [
    {
     "name": "stdout",
     "output_type": "stream",
     "text": [
      "['frame I', 'frame P', 'frame P', 'frame P', 'frame P', 'frame P', 'frame P', 'frame P', 'frame P', 'frame P', 'frame P', 'frame P', 'frame P', 'frame P', 'frame P', 'frame P', 'frame P', 'frame P', 'frame P', 'frame P', 'frame P', 'frame P', 'frame P', 'frame P', 'frame P', 'frame P', 'frame P', 'frame P', 'frame P', 'frame P', 'frame P', 'frame P', 'frame P', 'frame P', 'frame P', 'frame P', 'frame P', 'frame P', 'frame P', 'frame P', 'frame P', 'frame P', 'frame P', 'frame P', 'frame P', 'frame P', 'frame P', 'frame P', 'frame P', 'frame P', 'frame P', 'frame P', 'frame P', 'frame P', 'frame P', 'frame P', 'frame P', 'frame P', 'frame P', 'frame P', 'frame I', 'frame P', 'frame P', 'frame P', 'frame P', 'frame P', 'frame P', 'frame P', 'frame P', 'frame P', 'frame P', 'frame P', 'frame P', 'frame P', 'frame P', 'frame P', 'frame P', 'frame P', 'frame P', 'frame P', 'frame P', 'frame P', 'frame P', 'frame P', 'frame P', 'frame P', 'frame P', 'frame P', 'frame P', 'frame P', 'frame P', 'frame P', 'frame P', 'frame P', 'frame P', 'frame P', 'frame P', 'frame P', 'frame P', 'frame P', 'frame P', 'frame P', 'frame P', 'frame P', 'frame P', 'frame P']\n"
     ]
    }
   ],
   "source": [
    "#Ordem de execucao de frames\n",
    "lista = subprocess.check_output('ffprobe -select_streams v -show_frames -show_entries frame=pict_type -of csv videoplayback.mp4', shell=True).decode(sys.stdout.encoding)\n",
    "lista = lista.replace(\",\",\" \")\n",
    "execucao = []\n",
    "c = 0\n",
    "temp = \"\"\n",
    "for char in lista:\n",
    "    if(c < 7):\n",
    "        temp += char\n",
    "        c += 1\n",
    "    else:\n",
    "        execucao.append(temp)\n",
    "        temp = \"\"\n",
    "        c = 0\n",
    "print (execucao)"
   ]
  },
  {
   "cell_type": "code",
   "execution_count": 6,
   "metadata": {},
   "outputs": [
    {
     "data": {
      "text/plain": [
       "256"
      ]
     },
     "execution_count": 6,
     "metadata": {},
     "output_type": "execute_result"
    }
   ],
   "source": [
    "#Criando video mostrando os vetores de movimentos\n",
    "os.system('ffmpeg -flags2 +export_mvs -i videoplayback.mp4 -vf codecview=mv=pf+bf+bb+qp vetorMovimento.mp4')"
   ]
  },
  {
   "cell_type": "code",
   "execution_count": null,
   "metadata": {},
   "outputs": [],
   "source": []
  }
 ],
 "metadata": {
  "kernelspec": {
   "display_name": "Python 3",
   "language": "python",
   "name": "python3"
  },
  "language_info": {
   "codemirror_mode": {
    "name": "ipython",
    "version": 3
   },
   "file_extension": ".py",
   "mimetype": "text/x-python",
   "name": "python",
   "nbconvert_exporter": "python",
   "pygments_lexer": "ipython3",
   "version": "3.8.5"
  }
 },
 "nbformat": 4,
 "nbformat_minor": 4
}
